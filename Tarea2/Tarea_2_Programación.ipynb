{
  "cells": [
    {
      "cell_type": "markdown",
      "id": "1af6622b-f1b0-449f-b841-e5d5f2a2cb11",
      "metadata": {
        "id": "1af6622b-f1b0-449f-b841-e5d5f2a2cb11"
      },
      "source": [
        "# Tarea 2: Instrucciones de control\n",
        "\n",
        "Profesor: Eduardo Acuña Yeomans\n",
        "\n",
        "UNISON\n",
        "\n",
        "Estephania Pivac Alcaraz\n",
        "\n",
        "___"
      ]
    },
    {
      "cell_type": "markdown",
      "source": [
        "## 1. Instrucciones de control"
      ],
      "metadata": {
        "id": "tQ6Pa1fIPkzq"
      },
      "id": "tQ6Pa1fIPkzq"
    },
    {
      "cell_type": "markdown",
      "source": [
        "## Instrucciones condicionales\n",
        "\n",
        "Forma general:\n",
        "```\n",
        "if expr:\n",
        "    instr...\n",
        "elif expr:\n",
        "    instr...\n",
        "elif expr:\n",
        "    instr...\n",
        "else:\n",
        "    instr...\n",
        "```"
      ],
      "metadata": {
        "id": "Pz342R52QK_v"
      },
      "id": "Pz342R52QK_v"
    },
    {
      "cell_type": "code",
      "source": [
        "if True:\n",
        "    print(\"si\")"
      ],
      "metadata": {
        "colab": {
          "base_uri": "https://localhost:8080/"
        },
        "id": "baA7j3hRQMGc",
        "outputId": "e551e7d1-11bc-4dbf-c3df-0ada1dd31e14"
      },
      "id": "baA7j3hRQMGc",
      "execution_count": 345,
      "outputs": [
        {
          "output_type": "stream",
          "name": "stdout",
          "text": [
            "si\n"
          ]
        }
      ]
    },
    {
      "cell_type": "code",
      "source": [
        "if False:\n",
        "    print(\"no\")"
      ],
      "metadata": {
        "id": "ZW7WNCDSQOoX"
      },
      "id": "ZW7WNCDSQOoX",
      "execution_count": 346,
      "outputs": []
    },
    {
      "cell_type": "code",
      "source": [
        "if False:\n",
        "    print(\"no\")\n",
        "else:\n",
        "    print(\"talvez\")"
      ],
      "metadata": {
        "colab": {
          "base_uri": "https://localhost:8080/"
        },
        "id": "Y5uFCo4_QQt7",
        "outputId": "2af953b2-afe1-4a92-abf0-7e8fa3a6a9c5"
      },
      "id": "Y5uFCo4_QQt7",
      "execution_count": 347,
      "outputs": [
        {
          "output_type": "stream",
          "name": "stdout",
          "text": [
            "talvez\n"
          ]
        }
      ]
    },
    {
      "cell_type": "code",
      "source": [
        "x = 5\n",
        "if x < 2:\n",
        "    y = 1\n",
        "elif x < 4:\n",
        "    y = 2\n",
        "elif x < 6:\n",
        "    y = 3\n",
        "else:\n",
        "    y = -1\n",
        "\n",
        "print(y)"
      ],
      "metadata": {
        "colab": {
          "base_uri": "https://localhost:8080/"
        },
        "id": "QnWTlBL4QS3D",
        "outputId": "c547c224-3434-44f5-cd68-69ec8d15cf1f"
      },
      "id": "QnWTlBL4QS3D",
      "execution_count": 348,
      "outputs": [
        {
          "output_type": "stream",
          "name": "stdout",
          "text": [
            "3\n"
          ]
        }
      ]
    },
    {
      "cell_type": "markdown",
      "source": [
        "## 2. Loops\n",
        "\n",
        "Forma general:\n",
        "\n",
        "```\n",
        "while expr:\n",
        "    instr...\n",
        "else:\n",
        "    instr...\n",
        "\n",
        "```"
      ],
      "metadata": {
        "id": "YLdMvA2RQVTK"
      },
      "id": "YLdMvA2RQVTK"
    },
    {
      "cell_type": "code",
      "source": [
        "x = 0\n",
        "while x < 10:\n",
        "    print(f\"{x} es menor a 10\")\n",
        "    x += 1"
      ],
      "metadata": {
        "colab": {
          "base_uri": "https://localhost:8080/"
        },
        "id": "81aVoXDSQkRm",
        "outputId": "1dfd65bd-c7e1-40e9-9718-c34ccd83b7c6"
      },
      "id": "81aVoXDSQkRm",
      "execution_count": 349,
      "outputs": [
        {
          "output_type": "stream",
          "name": "stdout",
          "text": [
            "0 es menor a 10\n",
            "1 es menor a 10\n",
            "2 es menor a 10\n",
            "3 es menor a 10\n",
            "4 es menor a 10\n",
            "5 es menor a 10\n",
            "6 es menor a 10\n",
            "7 es menor a 10\n",
            "8 es menor a 10\n",
            "9 es menor a 10\n"
          ]
        }
      ]
    },
    {
      "cell_type": "code",
      "source": [
        "x = 0\n",
        "while True:\n",
        "    print(f\"{x} es menor a 10\")\n",
        "    x += 1\n",
        "    if x >= 10:\n",
        "        break"
      ],
      "metadata": {
        "colab": {
          "base_uri": "https://localhost:8080/"
        },
        "id": "YcyTNFMOQniV",
        "outputId": "6e73d1ea-da49-4e1d-cd2a-7ade6bd81ac4"
      },
      "id": "YcyTNFMOQniV",
      "execution_count": 350,
      "outputs": [
        {
          "output_type": "stream",
          "name": "stdout",
          "text": [
            "0 es menor a 10\n",
            "1 es menor a 10\n",
            "2 es menor a 10\n",
            "3 es menor a 10\n",
            "4 es menor a 10\n",
            "5 es menor a 10\n",
            "6 es menor a 10\n",
            "7 es menor a 10\n",
            "8 es menor a 10\n",
            "9 es menor a 10\n"
          ]
        }
      ]
    },
    {
      "cell_type": "code",
      "source": [
        "x = 0\n",
        "while x < 10:\n",
        "    if (x % 2) == 0:\n",
        "        x += 1\n",
        "        continue\n",
        "    print(f\"{x} es menor a 10\")\n",
        "    x += 1"
      ],
      "metadata": {
        "colab": {
          "base_uri": "https://localhost:8080/"
        },
        "id": "lJEriwZOQp5l",
        "outputId": "5075f3cf-283e-4d79-9c8f-4bd41a3bf1e8"
      },
      "id": "lJEriwZOQp5l",
      "execution_count": 351,
      "outputs": [
        {
          "output_type": "stream",
          "name": "stdout",
          "text": [
            "1 es menor a 10\n",
            "3 es menor a 10\n",
            "5 es menor a 10\n",
            "7 es menor a 10\n",
            "9 es menor a 10\n"
          ]
        }
      ]
    },
    {
      "cell_type": "code",
      "source": [
        "y = 3.12345\n",
        "print(f\"{y:.02f}\")"
      ],
      "metadata": {
        "colab": {
          "base_uri": "https://localhost:8080/"
        },
        "id": "QVDzetrAQsQ0",
        "outputId": "0ab480fd-85c4-4f55-f155-da95cc3b484d"
      },
      "id": "QVDzetrAQsQ0",
      "execution_count": 352,
      "outputs": [
        {
          "output_type": "stream",
          "name": "stdout",
          "text": [
            "3.12\n"
          ]
        }
      ]
    },
    {
      "cell_type": "markdown",
      "source": [
        "## 3. Iteraciones\n",
        "\n",
        "Forma general:\n",
        "\n",
        "```\n",
        "for item in collection:\n",
        "    instr...\n",
        "```"
      ],
      "metadata": {
        "id": "6TLem1alQuLK"
      },
      "id": "6TLem1alQuLK"
    },
    {
      "cell_type": "code",
      "source": [
        "for x in range(10):\n",
        "    print(f\"{x} es menor a 10\")"
      ],
      "metadata": {
        "colab": {
          "base_uri": "https://localhost:8080/"
        },
        "id": "CTNkHq1kQzFc",
        "outputId": "25ac8cd4-5d32-4ef2-842e-a9ff8e15db9e"
      },
      "id": "CTNkHq1kQzFc",
      "execution_count": 353,
      "outputs": [
        {
          "output_type": "stream",
          "name": "stdout",
          "text": [
            "0 es menor a 10\n",
            "1 es menor a 10\n",
            "2 es menor a 10\n",
            "3 es menor a 10\n",
            "4 es menor a 10\n",
            "5 es menor a 10\n",
            "6 es menor a 10\n",
            "7 es menor a 10\n",
            "8 es menor a 10\n",
            "9 es menor a 10\n"
          ]
        }
      ]
    },
    {
      "cell_type": "code",
      "source": [
        "for x in range(10):\n",
        "    if x == 3:\n",
        "        continue\n",
        "    if x == 5:\n",
        "        break\n",
        "    print(x)"
      ],
      "metadata": {
        "colab": {
          "base_uri": "https://localhost:8080/"
        },
        "id": "xaCv0xQCQ1_1",
        "outputId": "80563869-807e-4dfd-cea5-d3c9a33e1683"
      },
      "id": "xaCv0xQCQ1_1",
      "execution_count": 356,
      "outputs": [
        {
          "output_type": "stream",
          "name": "stdout",
          "text": [
            "0\n",
            "1\n",
            "2\n",
            "4\n"
          ]
        }
      ]
    },
    {
      "cell_type": "markdown",
      "source": [
        "Veamos como contar la cantidad de palabras en un documento."
      ],
      "metadata": {
        "id": "vD-pmdkDQ6cS"
      },
      "id": "vD-pmdkDQ6cS"
    },
    {
      "cell_type": "code",
      "source": [
        "from pprint import pprint\n",
        "\n",
        "def aiw_wc():\n",
        "    with open('./aiw.txt', 'rt') as book:\n",
        "        book.read(1399)\n",
        "        words = book.read().split()\n",
        "        word_counts = {}\n",
        "        for word in words:\n",
        "            if word in word_counts:\n",
        "                word_counts[word] += 1\n",
        "            else:\n",
        "                word_counts[word] = 1\n",
        "        return word_counts"
      ],
      "metadata": {
        "id": "dbp_qA6JQ4Hf"
      },
      "id": "dbp_qA6JQ4Hf",
      "execution_count": 357,
      "outputs": []
    },
    {
      "cell_type": "code",
      "source": [
        "wc = aiw_wc()"
      ],
      "metadata": {
        "id": "lOwHd2InRZ1s"
      },
      "id": "lOwHd2InRZ1s",
      "execution_count": 358,
      "outputs": []
    },
    {
      "cell_type": "markdown",
      "source": [
        "Podemos obtener el top 20 palabras más frecuentes"
      ],
      "metadata": {
        "id": "cqKrHb3eRc31"
      },
      "id": "cqKrHb3eRc31"
    },
    {
      "cell_type": "code",
      "source": [
        "top = sorted(wc.items(), reverse=True, key=lambda x: x[1])"
      ],
      "metadata": {
        "id": "wHF9P2LkRe9_"
      },
      "id": "wHF9P2LkRe9_",
      "execution_count": 359,
      "outputs": []
    },
    {
      "cell_type": "code",
      "source": [
        "top[:20]"
      ],
      "metadata": {
        "colab": {
          "base_uri": "https://localhost:8080/"
        },
        "id": "4c3GnrOwRhCq",
        "outputId": "68bc3fab-30c8-41d2-ccd5-21b2e33a2668"
      },
      "id": "4c3GnrOwRhCq",
      "execution_count": 360,
      "outputs": [
        {
          "output_type": "execute_result",
          "data": {
            "text/plain": [
              "[('the', 1673),\n",
              " ('and', 778),\n",
              " ('to', 777),\n",
              " ('a', 664),\n",
              " ('of', 599),\n",
              " ('she', 485),\n",
              " ('said', 416),\n",
              " ('in', 400),\n",
              " ('it', 355),\n",
              " ('was', 329),\n",
              " ('you', 303),\n",
              " ('I', 249),\n",
              " ('as', 246),\n",
              " ('that', 225),\n",
              " ('Alice', 221),\n",
              " ('with', 212),\n",
              " ('at', 207),\n",
              " ('her', 204),\n",
              " ('had', 176),\n",
              " ('all', 169)]"
            ]
          },
          "metadata": {},
          "execution_count": 360
        }
      ]
    },
    {
      "cell_type": "code",
      "source": [
        "import timeit\n",
        "#%%timeit\n",
        "wc = aiw_wc()\n",
        "top = sorted(wc.items(), reverse=True, key=lambda x: x[1])\n",
        "top[:20]"
      ],
      "metadata": {
        "colab": {
          "base_uri": "https://localhost:8080/"
        },
        "id": "Bcbf1Y1CRkIe",
        "outputId": "0db18778-879e-40d2-8a27-705aa5d53831"
      },
      "id": "Bcbf1Y1CRkIe",
      "execution_count": 361,
      "outputs": [
        {
          "output_type": "execute_result",
          "data": {
            "text/plain": [
              "[('the', 1673),\n",
              " ('and', 778),\n",
              " ('to', 777),\n",
              " ('a', 664),\n",
              " ('of', 599),\n",
              " ('she', 485),\n",
              " ('said', 416),\n",
              " ('in', 400),\n",
              " ('it', 355),\n",
              " ('was', 329),\n",
              " ('you', 303),\n",
              " ('I', 249),\n",
              " ('as', 246),\n",
              " ('that', 225),\n",
              " ('Alice', 221),\n",
              " ('with', 212),\n",
              " ('at', 207),\n",
              " ('her', 204),\n",
              " ('had', 176),\n",
              " ('all', 169)]"
            ]
          },
          "metadata": {},
          "execution_count": 361
        }
      ]
    },
    {
      "cell_type": "markdown",
      "source": [
        "Hay formas más simples y eficientes de hacer eso, comparemos el código anterior con las siguientes propuestas:"
      ],
      "metadata": {
        "id": "CR397h-NRm3J"
      },
      "id": "CR397h-NRm3J"
    },
    {
      "cell_type": "code",
      "source": [
        "from collections import defaultdict\n",
        "\n",
        "def aiw_wc():\n",
        "    with open('./aiw.txt', 'rt') as book:\n",
        "        book.read(1399)\n",
        "        words = book.read().split()\n",
        "        word_counts = defaultdict(int)\n",
        "        for word in words:\n",
        "            word_counts[word] += 1\n",
        "        return word_counts"
      ],
      "metadata": {
        "id": "s4ixa9CzRnh-"
      },
      "id": "s4ixa9CzRnh-",
      "execution_count": 362,
      "outputs": []
    },
    {
      "cell_type": "code",
      "source": [
        "%%timeit\n",
        "wc = aiw_wc()\n",
        "top = sorted(wc.items(), reverse=True, key=lambda x: x[1])\n",
        "top[:20]"
      ],
      "metadata": {
        "colab": {
          "base_uri": "https://localhost:8080/"
        },
        "id": "exSy05HrRpls",
        "outputId": "2ab11840-7477-4f6d-9c70-ca3c493d424d"
      },
      "id": "exSy05HrRpls",
      "execution_count": 363,
      "outputs": [
        {
          "output_type": "stream",
          "name": "stdout",
          "text": [
            "13.2 ms ± 259 µs per loop (mean ± std. dev. of 7 runs, 100 loops each)\n"
          ]
        }
      ]
    },
    {
      "cell_type": "code",
      "source": [
        "from collections import Counter\n",
        "\n",
        "def aiw_wc():\n",
        "    with open('./aiw.txt', 'rt') as book:\n",
        "        book.read(1399)\n",
        "        return Counter(book.read().split())"
      ],
      "metadata": {
        "id": "9-75t0o3Rwqi"
      },
      "id": "9-75t0o3Rwqi",
      "execution_count": 364,
      "outputs": []
    },
    {
      "cell_type": "code",
      "source": [
        "%%timeit\n",
        "wc = aiw_wc()\n",
        "wc.most_common(20)"
      ],
      "metadata": {
        "colab": {
          "base_uri": "https://localhost:8080/"
        },
        "id": "o3zQ9_DfRx3_",
        "outputId": "25aa7d27-efd7-4ff1-aadf-4faa590a3663"
      },
      "id": "o3zQ9_DfRx3_",
      "execution_count": 365,
      "outputs": [
        {
          "output_type": "stream",
          "name": "stdout",
          "text": [
            "9.97 ms ± 414 µs per loop (mean ± std. dev. of 7 runs, 100 loops each)\n"
          ]
        }
      ]
    },
    {
      "cell_type": "markdown",
      "id": "f53b5286-c26f-4947-adfb-87844310f76f",
      "metadata": {
        "id": "f53b5286-c26f-4947-adfb-87844310f76f"
      },
      "source": [
        "## 4. Problema: Tic Tac Toe\n",
        "\n",
        "**Instrucciones:**\n",
        "\n",
        "Escribe un programa con quién jugar [al gato](https://es.wikipedia.org/wiki/Tres_en_l%C3%ADnea).\n",
        "Puedes representar el estado del juego con una lista con valores que codifican las marcas: 0 para casillas vacías, 1 para las cruces, 2 para los círculos.\n",
        "Puedes recibir la jugada desde el teclado usando `input`.\n",
        "\n",
        "---\n",
        "\n",
        "Comenzamos importando las librerías que utilizaremos:"
      ]
    },
    {
      "cell_type": "code",
      "execution_count": 217,
      "id": "185b79e7",
      "metadata": {
        "id": "185b79e7"
      },
      "outputs": [],
      "source": [
        "import numpy as np\n",
        "from collections import Counter\n",
        "import random\n",
        "import time"
      ]
    },
    {
      "cell_type": "markdown",
      "id": "9fb4238a",
      "metadata": {
        "id": "9fb4238a"
      },
      "source": [
        "La siguiente función permite imprimir a pantalla el estado del juego."
      ]
    },
    {
      "cell_type": "code",
      "execution_count": 2,
      "id": "48e6fdf3-7f7c-4d41-be39-d10eae6dee46",
      "metadata": {
        "id": "48e6fdf3-7f7c-4d41-be39-d10eae6dee46"
      },
      "outputs": [],
      "source": [
        "def cell_char(x):\n",
        "    if x == 1:\n",
        "        return \"x\"\n",
        "    if x == 2:\n",
        "        return \"o\"\n",
        "    return \" \"\n",
        "\n",
        "def print_state(s):\n",
        "    c = [cell_char(x) for x in s]\n",
        "    print(\"    A   B   C  \")\n",
        "    print(\"  ┏━━━┯━━━┯━━━┓\")\n",
        "    print(\"1 ┃ {} │ {} │ {} ┃\".format(c[0], c[1], c[2]))\n",
        "    print(\"  ┠───┼───┼───┨\")\n",
        "    print(\"2 ┃ {} │ {} │ {} ┃\".format(c[3], c[4], c[5]))\n",
        "    print(\"  ┠───┼───┼───┨\")\n",
        "    print(\"3 ┃ {} │ {} │ {} ┃\".format(c[6], c[7], c[8]))\n",
        "    print(\"  ┗━━━┷━━━┷━━━┛\")"
      ]
    },
    {
      "cell_type": "code",
      "execution_count": 3,
      "id": "7d159e6e-e4b2-47d9-a960-0e0a8f6bfc94",
      "metadata": {
        "colab": {
          "base_uri": "https://localhost:8080/"
        },
        "id": "7d159e6e-e4b2-47d9-a960-0e0a8f6bfc94",
        "outputId": "398c256b-1be2-4c47-df0a-b9351605ee00"
      },
      "outputs": [
        {
          "output_type": "stream",
          "name": "stdout",
          "text": [
            "    A   B   C  \n",
            "  ┏━━━┯━━━┯━━━┓\n",
            "1 ┃   │   │   ┃\n",
            "  ┠───┼───┼───┨\n",
            "2 ┃   │   │   ┃\n",
            "  ┠───┼───┼───┨\n",
            "3 ┃   │   │   ┃\n",
            "  ┗━━━┷━━━┷━━━┛\n"
          ]
        }
      ],
      "source": [
        "print_state([0, 0, 0, 0, 0, 0, 0, 0, 0])"
      ]
    },
    {
      "cell_type": "markdown",
      "id": "2b2eccd3-82cc-4389-af9f-19c6cc835a93",
      "metadata": {
        "id": "2b2eccd3-82cc-4389-af9f-19c6cc835a93"
      },
      "source": [
        "El siguiente fragmento de código puede servir como plantilla para el juego"
      ]
    },
    {
      "cell_type": "code",
      "source": [
        "def init_state():\n",
        "  state = [0, 0, 0, 0, 0, 0, 0, 0, 0]\n",
        "  return state"
      ],
      "metadata": {
        "id": "jVJvDfr3qtKK"
      },
      "id": "jVJvDfr3qtKK",
      "execution_count": 116,
      "outputs": []
    },
    {
      "cell_type": "markdown",
      "id": "85fa055b",
      "metadata": {
        "id": "85fa055b"
      },
      "source": [
        "La siguiente función da la bienvenida al juego e indica al jugador las reglas del juego"
      ]
    },
    {
      "cell_type": "code",
      "execution_count": 294,
      "id": "84b4ba2e",
      "metadata": {
        "id": "84b4ba2e"
      },
      "outputs": [],
      "source": [
        "def intro():\n",
        "# Esta función indica las reglas del juego Tic Tac Toe\n",
        "    print(\"¡Hola! Bienvenido al juego Tic Tac Toe!\")\n",
        "    print(\"\\n\")\n",
        "    print(\"Reglas: \\n1. El Jugador 1 y Jugador 2, representados por X y O, toman turnos para marcar los espacios de una cuadrícula de 3*3. \\n\"\n",
        "          \"2. El jugador que tenga éxito en completar tres de sus símbolos en un renglón, columna o diagonal gana.\\n\"\n",
        "          \"3. El jugador inicial se selecciona aleatoriamente.\")\n",
        "    print(\"\\n\")"
      ]
    },
    {
      "cell_type": "code",
      "execution_count": 295,
      "id": "bbeb89e6",
      "metadata": {
        "colab": {
          "base_uri": "https://localhost:8080/"
        },
        "id": "bbeb89e6",
        "outputId": "44d4b6e8-3d7e-4f1c-ee66-23ead81d9cba"
      },
      "outputs": [
        {
          "output_type": "stream",
          "name": "stdout",
          "text": [
            "¡Hola! Bienvenido al juego Tic Tac Toe!\n",
            "\n",
            "\n",
            "Reglas: \n",
            "1. El Jugador 1 y Jugador 2, representados por X y O, toman turnos para marcar los espacios de una cuadrícula de 3*3. \n",
            "2. El jugador que tenga éxito en completar tres de sus símbolos en un renglón, columna o diagonal gana.\n",
            "3. El jugador inicial se selecciona aleatoriamente.\n",
            "\n",
            "\n"
          ]
        }
      ],
      "source": [
        "intro()"
      ]
    },
    {
      "cell_type": "markdown",
      "id": "uA2ukwuSJOKt",
      "metadata": {
        "id": "uA2ukwuSJOKt"
      },
      "source": [
        "La siguiente función revisa si el tablero ya está lleno."
      ]
    },
    {
      "cell_type": "code",
      "execution_count": 42,
      "id": "xS6by3szJTMF",
      "metadata": {
        "id": "xS6by3szJTMF"
      },
      "outputs": [],
      "source": [
        "def check_filled(state):\n",
        "    \"\"\"\n",
        "    Esta función tiene como agumento el estado actual del sistema y revisa si el tablero está lleno. \n",
        "    Tiene por Return 'True' o 'False'.\n",
        "    \"\"\"\n",
        "    freq = Counter(state)\n",
        "    filled = (freq[0] == 0)\n",
        "    return filled"
      ]
    },
    {
      "cell_type": "code",
      "execution_count": 43,
      "id": "yjyumsHVKJP0",
      "metadata": {
        "colab": {
          "base_uri": "https://localhost:8080/"
        },
        "id": "yjyumsHVKJP0",
        "outputId": "924377a4-975c-48f9-89e1-2cdb5a67b46c"
      },
      "outputs": [
        {
          "output_type": "execute_result",
          "data": {
            "text/plain": [
              "False"
            ]
          },
          "metadata": {},
          "execution_count": 43
        }
      ],
      "source": [
        "state=[1,2,1,2,0,2,1,1,2]\n",
        "check_filled(state)"
      ]
    },
    {
      "cell_type": "markdown",
      "id": "5A2Ozj57Betj",
      "metadata": {
        "id": "5A2Ozj57Betj"
      },
      "source": [
        "La siguiente función revisa si en el estado actual del sistema el jugador 'n' indicado es ganador."
      ]
    },
    {
      "cell_type": "code",
      "execution_count": 9,
      "id": "ff0d6fe9",
      "metadata": {
        "id": "ff0d6fe9"
      },
      "outputs": [],
      "source": [
        "def winner (state, player):\n",
        "    '''\n",
        "    Esta función revisa si el jugador indicado es ganador de acuerdo al estado actual del juego.\n",
        "    Args: \n",
        "        state (array 1x9): Estado actual del juego\n",
        "        player (int): Jugador \n",
        "    Returns:\n",
        "        True si el jugador dado es ganador.\n",
        "        False si no es ganador.\n",
        "    '''\n",
        "    # Revisamos todas las combinaciones ganadoras para este jugador: renglones, columnas y diagonales\n",
        "    win = None\n",
        "    state = np.reshape(state, (3,3))\n",
        "\n",
        "    # Revisamos en los renglones\n",
        "    for i in range(0,3):\n",
        "      win = True\n",
        "      for j in range(0,3):\n",
        "        if state[i][j] != player:\n",
        "          win = False\n",
        "          break\n",
        "      if win == True:\n",
        "        return win\n",
        "\n",
        "    # Revisamos las columnas\n",
        "    for i in range(0,3):\n",
        "      win = True\n",
        "      for j in range(0,3):\n",
        "        if state[j][i] != player:\n",
        "          win = False\n",
        "          break\n",
        "      if win == True:\n",
        "        return win\n",
        "\n",
        "    # Revisamos en las diagonales\n",
        "    win = True\n",
        "    for i in range(0,3):\n",
        "      if state[i][i] != player:\n",
        "        win = False\n",
        "        break\n",
        "    if win == True:\n",
        "      return win\n",
        "\n",
        "    win = True\n",
        "    for i in range(0,3):\n",
        "      if state[i][2-i] != player:\n",
        "        win = False\n",
        "        break\n",
        "    if win == True:\n",
        "      return win\n",
        "    return win"
      ]
    },
    {
      "cell_type": "code",
      "execution_count": 10,
      "id": "6fe16765",
      "metadata": {
        "colab": {
          "base_uri": "https://localhost:8080/"
        },
        "id": "6fe16765",
        "outputId": "c8edb6b9-b704-41ff-ec13-774110ef5437"
      },
      "outputs": [
        {
          "output_type": "execute_result",
          "data": {
            "text/plain": [
              "True"
            ]
          },
          "metadata": {},
          "execution_count": 10
        }
      ],
      "source": [
        "state=[1,2,1,2,2,2,1,1,2]\n",
        "winner (state, 2)"
      ]
    },
    {
      "cell_type": "markdown",
      "id": "d6f29f68",
      "metadata": {
        "id": "d6f29f68"
      },
      "source": [
        "La siguiente función selecciona aleatoriamente al jugador 1"
      ]
    },
    {
      "cell_type": "code",
      "execution_count": 296,
      "id": "bcd9cc68",
      "metadata": {
        "id": "bcd9cc68"
      },
      "outputs": [],
      "source": [
        "def initial_player():\n",
        "    \"\"\"\n",
        "    Esta función selecciona de manera aleatoria al jugador inicial: humano o computadora (ai).\n",
        "    Return: \"Human\" o \"AI\"\n",
        "    \"\"\"\n",
        "    x = random.randint(0,1)\n",
        "    if x == 0:\n",
        "            player = \"AI\"\n",
        "            print(\"¡La computadora inicia! \\nTu serás el jugador 2 \\n\")\n",
        "    else:\n",
        "            player = \"Human\"\n",
        "            print(\"¡Tú inicias! \\n \")\n",
        "    return player"
      ]
    },
    {
      "cell_type": "code",
      "execution_count": 297,
      "id": "961585f5",
      "metadata": {
        "colab": {
          "base_uri": "https://localhost:8080/",
          "height": 71
        },
        "id": "961585f5",
        "outputId": "32c9aa79-34d8-47a7-d848-3435154cd9a3"
      },
      "outputs": [
        {
          "output_type": "stream",
          "name": "stdout",
          "text": [
            "¡Tú inicias! \n",
            " \n"
          ]
        },
        {
          "output_type": "execute_result",
          "data": {
            "text/plain": [
              "'Human'"
            ],
            "application/vnd.google.colaboratory.intrinsic+json": {
              "type": "string"
            }
          },
          "metadata": {},
          "execution_count": 297
        }
      ],
      "source": [
        "initial_player()"
      ]
    },
    {
      "cell_type": "markdown",
      "id": "30a76458",
      "metadata": {
        "id": "30a76458"
      },
      "source": [
        "La siguiente función solicita al humano introducir su siguiente movimiento:"
      ]
    },
    {
      "cell_type": "code",
      "execution_count": 299,
      "id": "610f6512",
      "metadata": {
        "id": "610f6512"
      },
      "outputs": [],
      "source": [
        "# Convertimos la columna a un valor numérico\n",
        "def column_to_numeric(column):\n",
        "    \"\"\"\n",
        "    Esta función toma la selección de columna del usuario y la convierte a un valor numérico.\n",
        "    \"\"\"\n",
        "    if (column == 'A') or (column == 'a'):\n",
        "        column = 1\n",
        "    elif (column == 'B') or (column == 'b'):\n",
        "        column = 2\n",
        "    elif (column == 'C') or (column == 'c'):\n",
        "        column = 3\n",
        "    else:\n",
        "        column = 4\n",
        "    return column"
      ]
    },
    {
      "cell_type": "code",
      "source": [
        "def ask_action(state, player):\n",
        "    \"\"\"\n",
        "    Esta función solicita al usuario seleccionar un cuadro dentro del tablero.\n",
        "\n",
        "    Argumentos: \n",
        "      state (list(9)): Estado actual del juego/tablero.\n",
        "      player (int): Número de jugador del usuario (1 o 2)\n",
        "\n",
        "    Returns:\n",
        "      (row, column) (tuple): Una tupla con los valores del renglón y columna que el usuario ha seleccionado.\n",
        "\n",
        "    \"\"\"\n",
        "    print(\"\\nJugador \"+ str(player) + \" ahora es tu turno.\")\n",
        "    row, column = valid_move(state, player)\n",
        "\n",
        "    # Revisamos si el espacio ya está lleno\n",
        "    state = np.reshape(state, (3,3))\n",
        "    if (state[row - 1][column - 1] != 0):\n",
        "      while state[row - 1][column - 1] != 0 :\n",
        "        print(\"El espacio seleccionado ya está ocupado. Selecciona otra opción.\\n\")\n",
        "        row, column = valid_move(state, player)\n",
        "    \n",
        "    # Regresamos una tupla con el movimiento seleccionado\n",
        "    return (row - 1, column - 1)\n",
        "\n",
        "    "
      ],
      "metadata": {
        "id": "jEdqVLJ3Kx7l"
      },
      "id": "jEdqVLJ3Kx7l",
      "execution_count": 340,
      "outputs": []
    },
    {
      "cell_type": "code",
      "source": [
        "def valid_move(state, player):\n",
        "    row = input(\"Selecciona un renglón: \")\n",
        "\n",
        "    while (row not in {'1', '2', '3'}):\n",
        "      print(\"Valor fuera de rango, introduce un nuevo valor \\n\")\n",
        "      row = input(\"Selecciona un renglón: \")\n",
        "    row = int(row)\n",
        "\n",
        "    column = input(\"Selecciona una columna: \")\n",
        "    while (column not in {'A', 'B', 'C', 'a', 'b', 'c'}):\n",
        "      print(\"Valor fuera de rango, introduce un nuevo valor \\n\")\n",
        "      column = input(\"Selecciona una columna: \")\n",
        "\n",
        "    # Convertimos la columna a un valor numérico\n",
        "    column = column_to_numeric(column)\n",
        "\n",
        "    return (row, column)"
      ],
      "metadata": {
        "id": "I8RrOz8sMlCu"
      },
      "id": "I8RrOz8sMlCu",
      "execution_count": 341,
      "outputs": []
    },
    {
      "cell_type": "code",
      "execution_count": 339,
      "id": "ea698c32",
      "metadata": {
        "colab": {
          "base_uri": "https://localhost:8080/"
        },
        "id": "ea698c32",
        "outputId": "27d34cca-93dc-4787-92ae-ea358de7481e"
      },
      "outputs": [
        {
          "name": "stdout",
          "output_type": "stream",
          "text": [
            "    A   B   C  \n",
            "  ┏━━━┯━━━┯━━━┓\n",
            "1 ┃ x │ o │ x ┃\n",
            "  ┠───┼───┼───┨\n",
            "2 ┃   │ o │ o ┃\n",
            "  ┠───┼───┼───┨\n",
            "3 ┃ x │   │ o ┃\n",
            "  ┗━━━┷━━━┷━━━┛\n",
            "\n",
            "Jugador 2 ahora es tu turno.\n",
            "Selecciona un renglón: 1\n",
            "Selecciona una columna: a\n",
            "El espacio seleccionado ya está ocupado. Selecciona otra opción.\n",
            "\n",
            "Selecciona un renglón: 1\n",
            "Selecciona una columna: h\n",
            "Valor fuera de rango, introduce un nuevo valor \n",
            "\n",
            "Selecciona una columna: 2\n",
            "Valor fuera de rango, introduce un nuevo valor \n",
            "\n",
            "Selecciona una columna: a\n",
            "El espacio seleccionado ya está ocupado. Selecciona otra opción.\n",
            "\n",
            "Selecciona un renglón: 2\n",
            "Selecciona una columna: a\n"
          ]
        },
        {
          "output_type": "execute_result",
          "data": {
            "text/plain": [
              "(1, 0)"
            ]
          },
          "metadata": {},
          "execution_count": 339
        }
      ],
      "source": [
        "state1 = [1,2,1,0,2,2,1,0,2]\n",
        "print_state(state1)\n",
        "m = ask_action_1(state1, 2)\n",
        "m"
      ]
    },
    {
      "cell_type": "code",
      "source": [
        "def posible_moves(state):\n",
        "    \"\"\"\n",
        "    Esta función crea una lista con los cuadros del tablero que se encuentran disponibles.\n",
        "\n",
        "    Argumentos:\n",
        "        state (list): Estado actual del juego\n",
        "    \n",
        "    Returns:\n",
        "        movimientos (list): Una lista de tuplas con la información del renglón y columna del cuadro disponible.\n",
        "    \"\"\"\n",
        "    posible = [index for index, v in enumerate(state) if v == 0]\n",
        "    movimientos = []\n",
        "    for i in posible:\n",
        "      col = (i % 3)\n",
        "      if i < 3:\n",
        "        row = 0\n",
        "      elif i < 6:\n",
        "        row = 1\n",
        "      else: \n",
        "        row = 2\n",
        "      movimientos.append((row, col))\n",
        "    return movimientos"
      ],
      "metadata": {
        "id": "eNKtzPa8h_yS"
      },
      "id": "eNKtzPa8h_yS",
      "execution_count": 302,
      "outputs": []
    },
    {
      "cell_type": "code",
      "source": [
        "state1 = [0,2,1,0,2,2,1,0,2]\n",
        "posibles = posible_moves(state1)\n",
        "print(posibles)\n"
      ],
      "metadata": {
        "colab": {
          "base_uri": "https://localhost:8080/"
        },
        "id": "EFznXwaSjNWz",
        "outputId": "3070dd52-4322-4cf5-eefa-6ea5b4e25268"
      },
      "id": "EFznXwaSjNWz",
      "execution_count": 303,
      "outputs": [
        {
          "output_type": "stream",
          "name": "stdout",
          "text": [
            "[(0, 0), (1, 0), (2, 1)]\n"
          ]
        }
      ]
    },
    {
      "cell_type": "code",
      "source": [
        "def choose_action(state, player):\n",
        "  \"\"\"\n",
        "  Esta función elige un movimiento aleatorio para la computadora.\n",
        "\n",
        "  Argumentos:\n",
        "      state (list): Estado actual del sistema.\n",
        "      player (int): Número de jugador de la computadora\n",
        "\n",
        "  Returns:\n",
        "      m (tuple): Tupla con el valor del renglón y columna del movimiento seleccionado.\n",
        "  \"\"\"\n",
        "  posible = posible_moves(state)\n",
        "  n = len(posible)\n",
        "  # Seleccionamos uno de estos posibles espacios al azar\n",
        "  move = random.randint(0,n-1)\n",
        "  row, column = posible[move]\n",
        "  m = (row, column)\n",
        "  return m\n"
      ],
      "metadata": {
        "id": "zKuBjNiQ1x06"
      },
      "id": "zKuBjNiQ1x06",
      "execution_count": 304,
      "outputs": []
    },
    {
      "cell_type": "code",
      "source": [
        "state1 = [0,0,0,0,0,2,1,0,2]\n",
        "print_state(state1)\n",
        "m = choose_action(state1, 2)\n",
        "m"
      ],
      "metadata": {
        "colab": {
          "base_uri": "https://localhost:8080/"
        },
        "id": "_Yq5XNvj4E1f",
        "outputId": "483a1015-edc5-435d-8cfc-4a9954e29ce5"
      },
      "id": "_Yq5XNvj4E1f",
      "execution_count": 305,
      "outputs": [
        {
          "output_type": "stream",
          "name": "stdout",
          "text": [
            "    A   B   C  \n",
            "  ┏━━━┯━━━┯━━━┓\n",
            "1 ┃   │   │   ┃\n",
            "  ┠───┼───┼───┨\n",
            "2 ┃   │   │ o ┃\n",
            "  ┠───┼───┼───┨\n",
            "3 ┃ x │   │ o ┃\n",
            "  ┗━━━┷━━━┷━━━┛\n"
          ]
        },
        {
          "output_type": "execute_result",
          "data": {
            "text/plain": [
              "(1, 0)"
            ]
          },
          "metadata": {},
          "execution_count": 305
        }
      ]
    },
    {
      "cell_type": "code",
      "source": [
        "def is_final_state(state):\n",
        "  \"\"\"\n",
        "  Esta función revisa si el juego ha terminado: si hay algún ganador o el tablero ya está lleno.\n",
        "\n",
        "  Argumentos:\n",
        "      state (list): Estado actual del juego/tablero.\n",
        "\n",
        "  Returns:\n",
        "      True/False: Indica si el juego se ha terminado\n",
        "  \"\"\"\n",
        "  # Revisamos si en la configuración actual el jugador 1 ha ganado\n",
        "  if winner(state, 1) == True:\n",
        "    final = True\n",
        "    player = 1\n",
        "    return (final, player)\n",
        "  # Revisamos si en la configuración actual el jugador 2 ha ganado\n",
        "  elif winner(state, 2) == True:\n",
        "    final = True\n",
        "    player = 2\n",
        "    return (final, player)\n",
        "  # Revisamos si en la configuración actual el tablero está lleno\n",
        "  elif (check_filled(state) == True):\n",
        "    final = True\n",
        "    player = 0\n",
        "    return (final, player)\n",
        "  else: \n",
        "    return False"
      ],
      "metadata": {
        "id": "mu12Dg6ptqBo"
      },
      "id": "mu12Dg6ptqBo",
      "execution_count": 307,
      "outputs": []
    },
    {
      "cell_type": "code",
      "source": [
        "state1 = [1,2,1,2,2,2,1,1,2]\n",
        "is_final_state(state1)"
      ],
      "metadata": {
        "colab": {
          "base_uri": "https://localhost:8080/"
        },
        "id": "FdaV2-Vdup72",
        "outputId": "64a40b66-7055-4083-937d-e4ae7fb83eed"
      },
      "id": "FdaV2-Vdup72",
      "execution_count": 308,
      "outputs": [
        {
          "output_type": "execute_result",
          "data": {
            "text/plain": [
              "(True, 2)"
            ]
          },
          "metadata": {},
          "execution_count": 308
        }
      ]
    },
    {
      "cell_type": "code",
      "source": [
        "def next_state(state, move, player):\n",
        "  \"\"\"\n",
        "  Esta función genera el siguiente estado agregando los movimientos que se indican.\n",
        "\n",
        "  Argumentos:\n",
        "      state (list): Estado actual del juego/tablero\n",
        "      move (tuple): Movimiento a realizar\n",
        "      player (int): Número del jugador que está realizando el movimiento\n",
        "  \"\"\"\n",
        "  row , column = move\n",
        "  m = (3*row) + column\n",
        "  state[m] = player\n",
        "  return state"
      ],
      "metadata": {
        "id": "rHZqJ2xg5Hlx"
      },
      "id": "rHZqJ2xg5Hlx",
      "execution_count": 309,
      "outputs": []
    },
    {
      "cell_type": "code",
      "source": [
        "state1 = [1,0,1,2,2,2,0,1,2]\n",
        "next_state(state1, (0,1), 1)"
      ],
      "metadata": {
        "colab": {
          "base_uri": "https://localhost:8080/"
        },
        "id": "43wyYTZj55m3",
        "outputId": "87d753ac-4f3c-4746-90d9-c7a955ce1ff3"
      },
      "id": "43wyYTZj55m3",
      "execution_count": 310,
      "outputs": [
        {
          "output_type": "execute_result",
          "data": {
            "text/plain": [
              "[1, 1, 1, 2, 2, 2, 0, 1, 2]"
            ]
          },
          "metadata": {},
          "execution_count": 310
        }
      ]
    },
    {
      "cell_type": "code",
      "source": [
        "def report_winner(final_player, human):\n",
        "  \"\"\"\n",
        "  Esta función reporta el final del juego. Indica si ha terminado en empate o si hay algún ganador.\n",
        "\n",
        "  Argumentos: \n",
        "      final_player (list(bool, int)): Lista con información del final (bool - si el juego ha finalizado) y el jugador ganador (1,2 o 0 para indicar empate)\n",
        "      human (int): Número entero que indica el número de jugador del usuario.\n",
        "  \"\"\"\n",
        "  final, player = final_player\n",
        "  assert ((player < 3) and (player >= 0)) , \"Argument 'player' is out of range. Player should take values from 0 to 2.\"\n",
        "  assert final == True, \"The game is not finished yet.\"\n",
        "  assert ((human > 0) and (human <= 2)), \"Argument 'human' is out of range. It can only take values 1 or 2.\"\n",
        "  # Empate\n",
        "  if player == 0:\n",
        "    print(\"\\n¡ E M P A T E !\")\n",
        "  # Si ha ganado el usuario\n",
        "  elif player == human:\n",
        "    print(\"\\n¡ F E L I C I D A D E S   J U G A D O R   \" + str(player)+ \"   H A S   G A N A D O! \\nHas vencido a la computadora.\")\n",
        "  # Si no ha ganado el usuario\n",
        "  else:\n",
        "    print(\"G A M E   O V E R \\nEl jugador \" + str(player) + \" ha ganado.\")"
      ],
      "metadata": {
        "id": "Xjq2sHU3what"
      },
      "id": "Xjq2sHU3what",
      "execution_count": 312,
      "outputs": []
    },
    {
      "cell_type": "code",
      "source": [
        "report_winner((True, 2), 1)"
      ],
      "metadata": {
        "colab": {
          "base_uri": "https://localhost:8080/"
        },
        "id": "C7fFtUKcyj1K",
        "outputId": "c99a484d-45c8-4fd4-99d4-58fb16dc6d50"
      },
      "id": "C7fFtUKcyj1K",
      "execution_count": 313,
      "outputs": [
        {
          "output_type": "stream",
          "name": "stdout",
          "text": [
            "G A M E   O V E R \n",
            "El jugador 2 ha ganado.\n"
          ]
        }
      ]
    },
    {
      "cell_type": "code",
      "source": [
        "def next_player(player):\n",
        "  \"\"\"\n",
        "  Esta función indica el jugador que tiene el siguiente turno.\n",
        "\n",
        "  Argumentos:\n",
        "      player (int): Número del jugador actual.\n",
        "\n",
        "  Returns:\n",
        "      n (int): Número del siguiente jugador.\n",
        "  \"\"\"\n",
        "  if player == 1:\n",
        "    n = player + 1\n",
        "  else: \n",
        "    n = 1\n",
        "  return n"
      ],
      "metadata": {
        "id": "TpPpMAOQ6Y4d"
      },
      "id": "TpPpMAOQ6Y4d",
      "execution_count": 314,
      "outputs": []
    },
    {
      "cell_type": "code",
      "source": [
        "next_player(2)"
      ],
      "metadata": {
        "colab": {
          "base_uri": "https://localhost:8080/"
        },
        "id": "XhE3z52d6j3n",
        "outputId": "b00a2423-ba12-4ab2-ce7b-9d8792708e55"
      },
      "id": "XhE3z52d6j3n",
      "execution_count": 315,
      "outputs": [
        {
          "output_type": "execute_result",
          "data": {
            "text/plain": [
              "1"
            ]
          },
          "metadata": {},
          "execution_count": 315
        }
      ]
    },
    {
      "cell_type": "code",
      "source": [
        "def tic_tac_toe():\n",
        "    \"\"\"\n",
        "    Esta función genera una corrida completa de un juego de tic tac toe.\n",
        "    \"\"\"\n",
        "    s = init_state()\n",
        "    print(\"EL GATO™\")\n",
        "    \n",
        "    # Damos las instrucciones\n",
        "    intro()\n",
        "\n",
        "    # Seleccionamos al jugador que comienza\n",
        "    player_1 = initial_player()\n",
        "    if player_1 == 'Human':\n",
        "      human = 1\n",
        "      ai = 2\n",
        "    else:\n",
        "      human = 2\n",
        "      ai = 1\n",
        "    \n",
        "    # Comenzamos el juego con el primer jugador.\n",
        "    player = 1\n",
        "    # Repetimos el proceso hasta que haya un ganador o se complete el tablero.\n",
        "    while not is_final_state(s):\n",
        "        # Imprimimos el tablero\n",
        "        print_state(s)\n",
        "        # Se selecciona el siguiente movimiento. Si es turno del usuario, este debe seleccionarlo.\n",
        "        if player == human:\n",
        "          m = ask_action(s, human)\n",
        "        else:\n",
        "          print('\\nTurno del jugador' + str(ai)+\"\\n\")\n",
        "          # Pausamos 2 segundos el movimiento de la computadora para que se vea claramente cómo va evolucionando el juego.\n",
        "          time.sleep(2)\n",
        "          m = choose_action(s, ai)\n",
        "\n",
        "        # Se guarda el movimiento actual: Se genera el siguiente estado del juego y se selecciona al siguiente jugador.\n",
        "        s = next_state(s, m, player)\n",
        "        player = next_player(player)\n",
        "\n",
        "    # Imprimimos el estado final del juego y reportamos al ganador 🥇  (o empate)\n",
        "    print_state(s)\n",
        "    final = is_final_state(s)\n",
        "    report_winner(final, human)"
      ],
      "metadata": {
        "id": "O35lQJNKqf2t"
      },
      "id": "O35lQJNKqf2t",
      "execution_count": 366,
      "outputs": []
    },
    {
      "cell_type": "code",
      "source": [
        "# Jugamos al tic tac toe\n",
        "tic_tac_toe()"
      ],
      "metadata": {
        "colab": {
          "base_uri": "https://localhost:8080/",
          "height": 728
        },
        "id": "DH11gXxEUvg8",
        "outputId": "d11295f2-75db-418b-fceb-42d87e792827"
      },
      "id": "DH11gXxEUvg8",
      "execution_count": 371,
      "outputs": [
        {
          "output_type": "stream",
          "name": "stdout",
          "text": [
            "EL GATO™\n",
            "¡Hola! Bienvenido al juego Tic Tac Toe!\n",
            "\n",
            "\n",
            "Reglas: \n",
            "1. El Jugador 1 y Jugador 2, representados por X y O, toman turnos para marcar los espacios de una cuadrícula de 3*3. \n",
            "2. El jugador que tenga éxito en completar tres de sus símbolos en un renglón, columna o diagonal gana.\n",
            "3. El jugador inicial se selecciona aleatoriamente.\n",
            "\n",
            "\n",
            "¡Tú inicias! \n",
            " \n",
            "    A   B   C  \n",
            "  ┏━━━┯━━━┯━━━┓\n",
            "1 ┃   │   │   ┃\n",
            "  ┠───┼───┼───┨\n",
            "2 ┃   │   │   ┃\n",
            "  ┠───┼───┼───┨\n",
            "3 ┃   │   │   ┃\n",
            "  ┗━━━┷━━━┷━━━┛\n",
            "\n",
            "Jugador 1 ahora es tu turno.\n"
          ]
        },
        {
          "output_type": "error",
          "ename": "KeyboardInterrupt",
          "evalue": "ignored",
          "traceback": [
            "\u001b[0;31m---------------------------------------------------------------------------\u001b[0m",
            "\u001b[0;31mKeyboardInterrupt\u001b[0m                         Traceback (most recent call last)",
            "\u001b[0;32m<ipython-input-371-0cb54654a668>\u001b[0m in \u001b[0;36m<module>\u001b[0;34m\u001b[0m\n\u001b[1;32m      1\u001b[0m \u001b[0;31m# Jugamos al tic tac toe\u001b[0m\u001b[0;34m\u001b[0m\u001b[0;34m\u001b[0m\u001b[0;34m\u001b[0m\u001b[0m\n\u001b[0;32m----> 2\u001b[0;31m \u001b[0mtic_tac_toe\u001b[0m\u001b[0;34m(\u001b[0m\u001b[0;34m)\u001b[0m\u001b[0;34m\u001b[0m\u001b[0;34m\u001b[0m\u001b[0m\n\u001b[0m",
            "\u001b[0;32m<ipython-input-366-4746ad4da0db>\u001b[0m in \u001b[0;36mtic_tac_toe\u001b[0;34m()\u001b[0m\n\u001b[1;32m     26\u001b[0m         \u001b[0;31m# Se selecciona el siguiente movimiento. Si es turno del usuario, este debe seleccionarlo.\u001b[0m\u001b[0;34m\u001b[0m\u001b[0;34m\u001b[0m\u001b[0;34m\u001b[0m\u001b[0m\n\u001b[1;32m     27\u001b[0m         \u001b[0;32mif\u001b[0m \u001b[0mplayer\u001b[0m \u001b[0;34m==\u001b[0m \u001b[0mhuman\u001b[0m\u001b[0;34m:\u001b[0m\u001b[0;34m\u001b[0m\u001b[0;34m\u001b[0m\u001b[0m\n\u001b[0;32m---> 28\u001b[0;31m           \u001b[0mm\u001b[0m \u001b[0;34m=\u001b[0m \u001b[0mask_action\u001b[0m\u001b[0;34m(\u001b[0m\u001b[0ms\u001b[0m\u001b[0;34m,\u001b[0m \u001b[0mhuman\u001b[0m\u001b[0;34m)\u001b[0m\u001b[0;34m\u001b[0m\u001b[0;34m\u001b[0m\u001b[0m\n\u001b[0m\u001b[1;32m     29\u001b[0m         \u001b[0;32melse\u001b[0m\u001b[0;34m:\u001b[0m\u001b[0;34m\u001b[0m\u001b[0;34m\u001b[0m\u001b[0m\n\u001b[1;32m     30\u001b[0m           \u001b[0mprint\u001b[0m\u001b[0;34m(\u001b[0m\u001b[0;34m'\\nTurno del jugador'\u001b[0m \u001b[0;34m+\u001b[0m \u001b[0mstr\u001b[0m\u001b[0;34m(\u001b[0m\u001b[0mai\u001b[0m\u001b[0;34m)\u001b[0m\u001b[0;34m+\u001b[0m\u001b[0;34m\"\\n\"\u001b[0m\u001b[0;34m)\u001b[0m\u001b[0;34m\u001b[0m\u001b[0;34m\u001b[0m\u001b[0m\n",
            "\u001b[0;32m<ipython-input-340-7dbc754b91f8>\u001b[0m in \u001b[0;36mask_action\u001b[0;34m(state, player)\u001b[0m\n\u001b[1;32m     12\u001b[0m   \"\"\"\n\u001b[1;32m     13\u001b[0m   \u001b[0mprint\u001b[0m\u001b[0;34m(\u001b[0m\u001b[0;34m\"\\nJugador \"\u001b[0m\u001b[0;34m+\u001b[0m \u001b[0mstr\u001b[0m\u001b[0;34m(\u001b[0m\u001b[0mplayer\u001b[0m\u001b[0;34m)\u001b[0m \u001b[0;34m+\u001b[0m \u001b[0;34m\" ahora es tu turno.\"\u001b[0m\u001b[0;34m)\u001b[0m\u001b[0;34m\u001b[0m\u001b[0;34m\u001b[0m\u001b[0m\n\u001b[0;32m---> 14\u001b[0;31m   \u001b[0mrow\u001b[0m\u001b[0;34m,\u001b[0m \u001b[0mcolumn\u001b[0m \u001b[0;34m=\u001b[0m \u001b[0mvalid_move\u001b[0m\u001b[0;34m(\u001b[0m\u001b[0mstate\u001b[0m\u001b[0;34m,\u001b[0m \u001b[0mplayer\u001b[0m\u001b[0;34m)\u001b[0m\u001b[0;34m\u001b[0m\u001b[0;34m\u001b[0m\u001b[0m\n\u001b[0m\u001b[1;32m     15\u001b[0m \u001b[0;34m\u001b[0m\u001b[0m\n\u001b[1;32m     16\u001b[0m   \u001b[0;31m# Revisamos si el espacio ya está lleno\u001b[0m\u001b[0;34m\u001b[0m\u001b[0;34m\u001b[0m\u001b[0;34m\u001b[0m\u001b[0m\n",
            "\u001b[0;32m<ipython-input-341-0d7d660e366f>\u001b[0m in \u001b[0;36mvalid_move\u001b[0;34m(state, player)\u001b[0m\n\u001b[1;32m      1\u001b[0m \u001b[0;32mdef\u001b[0m \u001b[0mvalid_move\u001b[0m\u001b[0;34m(\u001b[0m\u001b[0mstate\u001b[0m\u001b[0;34m,\u001b[0m \u001b[0mplayer\u001b[0m\u001b[0;34m)\u001b[0m\u001b[0;34m:\u001b[0m\u001b[0;34m\u001b[0m\u001b[0;34m\u001b[0m\u001b[0m\n\u001b[0;32m----> 2\u001b[0;31m   \u001b[0mrow\u001b[0m \u001b[0;34m=\u001b[0m \u001b[0minput\u001b[0m\u001b[0;34m(\u001b[0m\u001b[0;34m\"Selecciona un renglón: \"\u001b[0m\u001b[0;34m)\u001b[0m\u001b[0;34m\u001b[0m\u001b[0;34m\u001b[0m\u001b[0m\n\u001b[0m\u001b[1;32m      3\u001b[0m \u001b[0;34m\u001b[0m\u001b[0m\n\u001b[1;32m      4\u001b[0m   \u001b[0;32mwhile\u001b[0m \u001b[0;34m(\u001b[0m\u001b[0mrow\u001b[0m \u001b[0;32mnot\u001b[0m \u001b[0;32min\u001b[0m \u001b[0;34m{\u001b[0m\u001b[0;34m'1'\u001b[0m\u001b[0;34m,\u001b[0m \u001b[0;34m'2'\u001b[0m\u001b[0;34m,\u001b[0m \u001b[0;34m'3'\u001b[0m\u001b[0;34m}\u001b[0m\u001b[0;34m)\u001b[0m\u001b[0;34m:\u001b[0m\u001b[0;34m\u001b[0m\u001b[0;34m\u001b[0m\u001b[0m\n\u001b[1;32m      5\u001b[0m     \u001b[0mprint\u001b[0m\u001b[0;34m(\u001b[0m\u001b[0;34m\"Valor fuera de rango, introduce un nuevo valor \\n\"\u001b[0m\u001b[0;34m)\u001b[0m\u001b[0;34m\u001b[0m\u001b[0;34m\u001b[0m\u001b[0m\n",
            "\u001b[0;32m/usr/local/lib/python3.7/dist-packages/ipykernel/kernelbase.py\u001b[0m in \u001b[0;36mraw_input\u001b[0;34m(self, prompt)\u001b[0m\n\u001b[1;32m    861\u001b[0m             \u001b[0mself\u001b[0m\u001b[0;34m.\u001b[0m\u001b[0m_parent_ident\u001b[0m\u001b[0;34m,\u001b[0m\u001b[0;34m\u001b[0m\u001b[0;34m\u001b[0m\u001b[0m\n\u001b[1;32m    862\u001b[0m             \u001b[0mself\u001b[0m\u001b[0;34m.\u001b[0m\u001b[0m_parent_header\u001b[0m\u001b[0;34m,\u001b[0m\u001b[0;34m\u001b[0m\u001b[0;34m\u001b[0m\u001b[0m\n\u001b[0;32m--> 863\u001b[0;31m             \u001b[0mpassword\u001b[0m\u001b[0;34m=\u001b[0m\u001b[0;32mFalse\u001b[0m\u001b[0;34m,\u001b[0m\u001b[0;34m\u001b[0m\u001b[0;34m\u001b[0m\u001b[0m\n\u001b[0m\u001b[1;32m    864\u001b[0m         )\n\u001b[1;32m    865\u001b[0m \u001b[0;34m\u001b[0m\u001b[0m\n",
            "\u001b[0;32m/usr/local/lib/python3.7/dist-packages/ipykernel/kernelbase.py\u001b[0m in \u001b[0;36m_input_request\u001b[0;34m(self, prompt, ident, parent, password)\u001b[0m\n\u001b[1;32m    902\u001b[0m             \u001b[0;32mexcept\u001b[0m \u001b[0mKeyboardInterrupt\u001b[0m\u001b[0;34m:\u001b[0m\u001b[0;34m\u001b[0m\u001b[0;34m\u001b[0m\u001b[0m\n\u001b[1;32m    903\u001b[0m                 \u001b[0;31m# re-raise KeyboardInterrupt, to truncate traceback\u001b[0m\u001b[0;34m\u001b[0m\u001b[0;34m\u001b[0m\u001b[0;34m\u001b[0m\u001b[0m\n\u001b[0;32m--> 904\u001b[0;31m                 \u001b[0;32mraise\u001b[0m \u001b[0mKeyboardInterrupt\u001b[0m\u001b[0;34m(\u001b[0m\u001b[0;34m\"Interrupted by user\"\u001b[0m\u001b[0;34m)\u001b[0m \u001b[0;32mfrom\u001b[0m \u001b[0;32mNone\u001b[0m\u001b[0;34m\u001b[0m\u001b[0;34m\u001b[0m\u001b[0m\n\u001b[0m\u001b[1;32m    905\u001b[0m             \u001b[0;32mexcept\u001b[0m \u001b[0mException\u001b[0m \u001b[0;32mas\u001b[0m \u001b[0me\u001b[0m\u001b[0;34m:\u001b[0m\u001b[0;34m\u001b[0m\u001b[0;34m\u001b[0m\u001b[0m\n\u001b[1;32m    906\u001b[0m                 \u001b[0mself\u001b[0m\u001b[0;34m.\u001b[0m\u001b[0mlog\u001b[0m\u001b[0;34m.\u001b[0m\u001b[0mwarning\u001b[0m\u001b[0;34m(\u001b[0m\u001b[0;34m\"Invalid Message:\"\u001b[0m\u001b[0;34m,\u001b[0m \u001b[0mexc_info\u001b[0m\u001b[0;34m=\u001b[0m\u001b[0;32mTrue\u001b[0m\u001b[0;34m)\u001b[0m\u001b[0;34m\u001b[0m\u001b[0;34m\u001b[0m\u001b[0m\n",
            "\u001b[0;31mKeyboardInterrupt\u001b[0m: Interrupted by user"
          ]
        }
      ]
    },
    {
      "cell_type": "code",
      "source": [
        "# Jugamos al tic tac toe y repetimos el juego hasta que el usuario lo decida\n",
        "\n",
        "play = True\n",
        "while play:\n",
        "  tic_tac_toe()\n",
        "  c = input(\"\\n \\n \\n \\n¿Deseas jugar una nueva partida? [SI / NO] \")\n",
        "  while (c not in {'SI', 'si', 'Si', 's', 'S', 'NO', 'no', 'No', 'n', 'N'}):\n",
        "    print('\\n \\nValor inválido. Introduce \"SI\" o \"NO\".')\n",
        "    c = input(\"\\n¿Deseas jugar una nueva partida? [SI / NO] \")\n",
        "  if (c in {'SI', 'si', 'Si', 's', 'S'}):\n",
        "    play = True\n",
        "  else: \n",
        "    play = False\n",
        "    print('\\n¡Hasta la próxima!')"
      ],
      "metadata": {
        "colab": {
          "base_uri": "https://localhost:8080/"
        },
        "id": "jzFSLycY7F5_",
        "outputId": "2f04316f-020d-482d-ae3f-81664e7eef52"
      },
      "id": "jzFSLycY7F5_",
      "execution_count": 370,
      "outputs": [
        {
          "output_type": "stream",
          "name": "stdout",
          "text": [
            "EL GATO™\n",
            "¡Hola! Bienvenido al juego Tic Tac Toe!\n",
            "\n",
            "\n",
            "Reglas: \n",
            "1. El Jugador 1 y Jugador 2, representados por X y O, toman turnos para marcar los espacios de una cuadrícula de 3*3. \n",
            "2. El jugador que tenga éxito en completar tres de sus símbolos en un renglón, columna o diagonal gana.\n",
            "3. El jugador inicial se selecciona aleatoriamente.\n",
            "\n",
            "\n",
            "¡La computadora inicia! \n",
            "Tu serás el jugador 2 \n",
            "\n",
            "    A   B   C  \n",
            "  ┏━━━┯━━━┯━━━┓\n",
            "1 ┃   │   │   ┃\n",
            "  ┠───┼───┼───┨\n",
            "2 ┃   │   │   ┃\n",
            "  ┠───┼───┼───┨\n",
            "3 ┃   │   │   ┃\n",
            "  ┗━━━┷━━━┷━━━┛\n",
            "\n",
            "Turno del jugador1\n",
            "\n",
            "    A   B   C  \n",
            "  ┏━━━┯━━━┯━━━┓\n",
            "1 ┃   │   │   ┃\n",
            "  ┠───┼───┼───┨\n",
            "2 ┃   │ x │   ┃\n",
            "  ┠───┼───┼───┨\n",
            "3 ┃   │   │   ┃\n",
            "  ┗━━━┷━━━┷━━━┛\n",
            "\n",
            "Jugador 2 ahora es tu turno.\n",
            "Selecciona un renglón: 1\n",
            "Selecciona una columna: \n",
            "Valor fuera de rango, introduce un nuevo valor \n",
            "\n",
            "Selecciona una columna: a\n",
            "    A   B   C  \n",
            "  ┏━━━┯━━━┯━━━┓\n",
            "1 ┃ o │   │   ┃\n",
            "  ┠───┼───┼───┨\n",
            "2 ┃   │ x │   ┃\n",
            "  ┠───┼───┼───┨\n",
            "3 ┃   │   │   ┃\n",
            "  ┗━━━┷━━━┷━━━┛\n",
            "\n",
            "Turno del jugador1\n",
            "\n",
            "    A   B   C  \n",
            "  ┏━━━┯━━━┯━━━┓\n",
            "1 ┃ o │   │   ┃\n",
            "  ┠───┼───┼───┨\n",
            "2 ┃   │ x │   ┃\n",
            "  ┠───┼───┼───┨\n",
            "3 ┃   │   │ x ┃\n",
            "  ┗━━━┷━━━┷━━━┛\n",
            "\n",
            "Jugador 2 ahora es tu turno.\n",
            "Selecciona un renglón: 2\n",
            "Selecciona una columna: a\n",
            "    A   B   C  \n",
            "  ┏━━━┯━━━┯━━━┓\n",
            "1 ┃ o │   │   ┃\n",
            "  ┠───┼───┼───┨\n",
            "2 ┃ o │ x │   ┃\n",
            "  ┠───┼───┼───┨\n",
            "3 ┃   │   │ x ┃\n",
            "  ┗━━━┷━━━┷━━━┛\n",
            "\n",
            "Turno del jugador1\n",
            "\n",
            "    A   B   C  \n",
            "  ┏━━━┯━━━┯━━━┓\n",
            "1 ┃ o │   │ x ┃\n",
            "  ┠───┼───┼───┨\n",
            "2 ┃ o │ x │   ┃\n",
            "  ┠───┼───┼───┨\n",
            "3 ┃   │   │ x ┃\n",
            "  ┗━━━┷━━━┷━━━┛\n",
            "\n",
            "Jugador 2 ahora es tu turno.\n",
            "Selecciona un renglón: 3\n",
            "Selecciona una columna: a\n",
            "    A   B   C  \n",
            "  ┏━━━┯━━━┯━━━┓\n",
            "1 ┃ o │   │ x ┃\n",
            "  ┠───┼───┼───┨\n",
            "2 ┃ o │ x │   ┃\n",
            "  ┠───┼───┼───┨\n",
            "3 ┃ o │   │ x ┃\n",
            "  ┗━━━┷━━━┷━━━┛\n",
            "\n",
            "¡ F E L I C I D A D E S   J U G A D O R   2   H A S   G A N A D O! \n",
            "Has vencido a la computadora.\n",
            "\n",
            " \n",
            " \n",
            " \n",
            "¿Deseas jugar una nueva partida? [SI / NO] no\n",
            "\n",
            " ¡Hasta la próxima!\n"
          ]
        }
      ]
    },
    {
      "cell_type": "code",
      "source": [],
      "metadata": {
        "id": "StQoKhczUUnt"
      },
      "id": "StQoKhczUUnt",
      "execution_count": null,
      "outputs": []
    }
  ],
  "metadata": {
    "colab": {
      "provenance": [],
      "toc_visible": true
    },
    "kernelspec": {
      "display_name": "Python 3.9.6 64-bit",
      "language": "python",
      "name": "python3"
    },
    "language_info": {
      "codemirror_mode": {
        "name": "ipython",
        "version": 3
      },
      "file_extension": ".py",
      "mimetype": "text/x-python",
      "name": "python",
      "nbconvert_exporter": "python",
      "pygments_lexer": "ipython3",
      "version": "3.9.6"
    },
    "vscode": {
      "interpreter": {
        "hash": "aee8b7b246df8f9039afb4144a1f6fd8d2ca17a180786b69acc140d282b71a49"
      }
    }
  },
  "nbformat": 4,
  "nbformat_minor": 5
}